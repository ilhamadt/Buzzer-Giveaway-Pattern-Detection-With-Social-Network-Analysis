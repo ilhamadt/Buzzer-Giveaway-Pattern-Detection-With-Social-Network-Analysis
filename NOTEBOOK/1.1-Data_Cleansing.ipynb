{
 "cells": [
  {
   "cell_type": "code",
   "execution_count": 1,
   "metadata": {},
   "outputs": [],
   "source": [
    "#Import libraries\n",
    "\n",
    "import numpy as np\n",
    "import pandas as pd\n",
    "import glob\n",
    "import time\n",
    "\n",
    "from datetime import datetime, timedelta, date, time"
   ]
  },
  {
   "cell_type": "code",
   "execution_count": 2,
   "metadata": {},
   "outputs": [],
   "source": [
    "all_data = pd.DataFrame()\n",
    "\n",
    "for f in glob.glob(\"../*.xlsx\"):\n",
    "    df = pd.read_excel(f)\n",
    "    all_data = all_data.append(df)\n",
    "    \n",
    "all_data = all_data.drop_duplicates([\"id_tweets\"])"
   ]
  },
  {
   "cell_type": "code",
   "execution_count": 3,
   "metadata": {},
   "outputs": [
    {
     "data": {
      "text/html": [
       "<div>\n",
       "<style scoped>\n",
       "    .dataframe tbody tr th:only-of-type {\n",
       "        vertical-align: middle;\n",
       "    }\n",
       "\n",
       "    .dataframe tbody tr th {\n",
       "        vertical-align: top;\n",
       "    }\n",
       "\n",
       "    .dataframe thead th {\n",
       "        text-align: right;\n",
       "    }\n",
       "</style>\n",
       "<table border=\"1\" class=\"dataframe\">\n",
       "  <thead>\n",
       "    <tr style=\"text-align: right;\">\n",
       "      <th></th>\n",
       "      <th>time</th>\n",
       "      <th>user</th>\n",
       "      <th>mentions</th>\n",
       "    </tr>\n",
       "  </thead>\n",
       "  <tbody>\n",
       "    <tr>\n",
       "      <th>0</th>\n",
       "      <td>2020-04-30 18:20:13</td>\n",
       "      <td>ulinyusron</td>\n",
       "      <td>[]</td>\n",
       "    </tr>\n",
       "    <tr>\n",
       "      <th>1</th>\n",
       "      <td>2020-04-30 18:21:47</td>\n",
       "      <td>hendribudiawan2</td>\n",
       "      <td>['ulinyusron']</td>\n",
       "    </tr>\n",
       "    <tr>\n",
       "      <th>2</th>\n",
       "      <td>2020-04-30 18:22:33</td>\n",
       "      <td>kemalarsjad</td>\n",
       "      <td>['ulinyusron']</td>\n",
       "    </tr>\n",
       "    <tr>\n",
       "      <th>3</th>\n",
       "      <td>2020-04-30 18:24:44</td>\n",
       "      <td>widhiholic</td>\n",
       "      <td>['ulinyusron']</td>\n",
       "    </tr>\n",
       "    <tr>\n",
       "      <th>4</th>\n",
       "      <td>2020-04-30 18:26:38</td>\n",
       "      <td>WeizmanJalmav</td>\n",
       "      <td>['ulinyusron']</td>\n",
       "    </tr>\n",
       "  </tbody>\n",
       "</table>\n",
       "</div>"
      ],
      "text/plain": [
       "                  time             user        mentions\n",
       "0  2020-04-30 18:20:13       ulinyusron              []\n",
       "1  2020-04-30 18:21:47  hendribudiawan2  ['ulinyusron']\n",
       "2  2020-04-30 18:22:33      kemalarsjad  ['ulinyusron']\n",
       "3  2020-04-30 18:24:44       widhiholic  ['ulinyusron']\n",
       "4  2020-04-30 18:26:38    WeizmanJalmav  ['ulinyusron']"
      ]
     },
     "execution_count": 3,
     "metadata": {},
     "output_type": "execute_result"
    }
   ],
   "source": [
    "#Get important variable\n",
    "\n",
    "data = all_data[['time', 'user', 'mentions']]\n",
    "data = data.sort_values(by='time').reset_index(drop=True)\n",
    "data.head()"
   ]
  },
  {
   "cell_type": "code",
   "execution_count": 4,
   "metadata": {},
   "outputs": [],
   "source": [
    "#Select only 1 day from first tweet\n",
    "\n",
    "batas = ((pd.to_datetime(data['time'][0]) + timedelta(1)).strftime(\"%Y-%m-%d %H:%M:%S\"))\n",
    "data = data[data['time'] <= batas]"
   ]
  },
  {
   "cell_type": "code",
   "execution_count": 5,
   "metadata": {},
   "outputs": [],
   "source": [
    "#Drop unwanted character\n",
    "#Not effective\n",
    "\n",
    "data['mentions_rapih'] = data['mentions'].str.replace(\"'\", '')\n",
    "data['mentions_rapih'] = data['mentions_rapih'].str.replace(\"]\", '')\n",
    "data['mentions_rapih'] = data['mentions_rapih'].str.replace(\"[\", '')\n",
    "data['mentions_rapih'] = data['mentions_rapih'].str.replace(\" \", '')"
   ]
  },
  {
   "cell_type": "code",
   "execution_count": 6,
   "metadata": {},
   "outputs": [
    {
     "data": {
      "text/html": [
       "<div>\n",
       "<style scoped>\n",
       "    .dataframe tbody tr th:only-of-type {\n",
       "        vertical-align: middle;\n",
       "    }\n",
       "\n",
       "    .dataframe tbody tr th {\n",
       "        vertical-align: top;\n",
       "    }\n",
       "\n",
       "    .dataframe thead th {\n",
       "        text-align: right;\n",
       "    }\n",
       "</style>\n",
       "<table border=\"1\" class=\"dataframe\">\n",
       "  <thead>\n",
       "    <tr style=\"text-align: right;\">\n",
       "      <th></th>\n",
       "      <th>user</th>\n",
       "      <th>mentions_rapih</th>\n",
       "    </tr>\n",
       "  </thead>\n",
       "  <tbody>\n",
       "    <tr>\n",
       "      <th>0</th>\n",
       "      <td>ulinyusron</td>\n",
       "      <td></td>\n",
       "    </tr>\n",
       "    <tr>\n",
       "      <th>1</th>\n",
       "      <td>hendribudiawan2</td>\n",
       "      <td>ulinyusron</td>\n",
       "    </tr>\n",
       "    <tr>\n",
       "      <th>2</th>\n",
       "      <td>kemalarsjad</td>\n",
       "      <td>ulinyusron</td>\n",
       "    </tr>\n",
       "    <tr>\n",
       "      <th>3</th>\n",
       "      <td>widhiholic</td>\n",
       "      <td>ulinyusron</td>\n",
       "    </tr>\n",
       "    <tr>\n",
       "      <th>4</th>\n",
       "      <td>WeizmanJalmav</td>\n",
       "      <td>ulinyusron</td>\n",
       "    </tr>\n",
       "  </tbody>\n",
       "</table>\n",
       "</div>"
      ],
      "text/plain": [
       "              user mentions_rapih\n",
       "0       ulinyusron               \n",
       "1  hendribudiawan2     ulinyusron\n",
       "2      kemalarsjad     ulinyusron\n",
       "3       widhiholic     ulinyusron\n",
       "4    WeizmanJalmav     ulinyusron"
      ]
     },
     "execution_count": 6,
     "metadata": {},
     "output_type": "execute_result"
    }
   ],
   "source": [
    "new_data = pd.DataFrame(data['mentions_rapih'].str.split(',').tolist(), index=data['user']).stack()\n",
    "new_data = new_data.reset_index([0, 'user'])\n",
    "new_data.columns = ['user','mentions_rapih']\n",
    "new_data.head()"
   ]
  },
  {
   "cell_type": "code",
   "execution_count": 7,
   "metadata": {},
   "outputs": [
    {
     "data": {
      "text/html": [
       "<div>\n",
       "<style scoped>\n",
       "    .dataframe tbody tr th:only-of-type {\n",
       "        vertical-align: middle;\n",
       "    }\n",
       "\n",
       "    .dataframe tbody tr th {\n",
       "        vertical-align: top;\n",
       "    }\n",
       "\n",
       "    .dataframe thead th {\n",
       "        text-align: right;\n",
       "    }\n",
       "</style>\n",
       "<table border=\"1\" class=\"dataframe\">\n",
       "  <thead>\n",
       "    <tr style=\"text-align: right;\">\n",
       "      <th></th>\n",
       "      <th>time</th>\n",
       "      <th>mentions_rapih</th>\n",
       "    </tr>\n",
       "  </thead>\n",
       "  <tbody>\n",
       "    <tr>\n",
       "      <th>0</th>\n",
       "      <td>2020-04-30 18:20:13</td>\n",
       "      <td></td>\n",
       "    </tr>\n",
       "    <tr>\n",
       "      <th>1</th>\n",
       "      <td>2020-04-30 18:21:47</td>\n",
       "      <td>ulinyusron</td>\n",
       "    </tr>\n",
       "    <tr>\n",
       "      <th>2</th>\n",
       "      <td>2020-04-30 18:22:33</td>\n",
       "      <td>ulinyusron</td>\n",
       "    </tr>\n",
       "    <tr>\n",
       "      <th>3</th>\n",
       "      <td>2020-04-30 18:24:44</td>\n",
       "      <td>ulinyusron</td>\n",
       "    </tr>\n",
       "    <tr>\n",
       "      <th>4</th>\n",
       "      <td>2020-04-30 18:26:38</td>\n",
       "      <td>ulinyusron</td>\n",
       "    </tr>\n",
       "  </tbody>\n",
       "</table>\n",
       "</div>"
      ],
      "text/plain": [
       "                  time mentions_rapih\n",
       "0  2020-04-30 18:20:13               \n",
       "1  2020-04-30 18:21:47     ulinyusron\n",
       "2  2020-04-30 18:22:33     ulinyusron\n",
       "3  2020-04-30 18:24:44     ulinyusron\n",
       "4  2020-04-30 18:26:38     ulinyusron"
      ]
     },
     "execution_count": 7,
     "metadata": {},
     "output_type": "execute_result"
    }
   ],
   "source": [
    "new_data2 = pd.DataFrame(data['mentions_rapih'].str.split(',').tolist(), index=data['time']).stack()\n",
    "new_data2 = new_data2.reset_index([0, 'time'])\n",
    "new_data2.columns = ['time','mentions_rapih']\n",
    "new_data2.head()"
   ]
  },
  {
   "cell_type": "code",
   "execution_count": 8,
   "metadata": {},
   "outputs": [
    {
     "data": {
      "text/html": [
       "<div>\n",
       "<style scoped>\n",
       "    .dataframe tbody tr th:only-of-type {\n",
       "        vertical-align: middle;\n",
       "    }\n",
       "\n",
       "    .dataframe tbody tr th {\n",
       "        vertical-align: top;\n",
       "    }\n",
       "\n",
       "    .dataframe thead th {\n",
       "        text-align: right;\n",
       "    }\n",
       "</style>\n",
       "<table border=\"1\" class=\"dataframe\">\n",
       "  <thead>\n",
       "    <tr style=\"text-align: right;\">\n",
       "      <th></th>\n",
       "      <th>user</th>\n",
       "      <th>mentions_rapih</th>\n",
       "      <th>time</th>\n",
       "    </tr>\n",
       "  </thead>\n",
       "  <tbody>\n",
       "    <tr>\n",
       "      <th>0</th>\n",
       "      <td>ulinyusron</td>\n",
       "      <td></td>\n",
       "      <td>2020-04-30 18:20:13</td>\n",
       "    </tr>\n",
       "    <tr>\n",
       "      <th>1</th>\n",
       "      <td>hendribudiawan2</td>\n",
       "      <td>ulinyusron</td>\n",
       "      <td>2020-04-30 18:21:47</td>\n",
       "    </tr>\n",
       "    <tr>\n",
       "      <th>2</th>\n",
       "      <td>kemalarsjad</td>\n",
       "      <td>ulinyusron</td>\n",
       "      <td>2020-04-30 18:22:33</td>\n",
       "    </tr>\n",
       "    <tr>\n",
       "      <th>3</th>\n",
       "      <td>widhiholic</td>\n",
       "      <td>ulinyusron</td>\n",
       "      <td>2020-04-30 18:24:44</td>\n",
       "    </tr>\n",
       "    <tr>\n",
       "      <th>4</th>\n",
       "      <td>WeizmanJalmav</td>\n",
       "      <td>ulinyusron</td>\n",
       "      <td>2020-04-30 18:26:38</td>\n",
       "    </tr>\n",
       "  </tbody>\n",
       "</table>\n",
       "</div>"
      ],
      "text/plain": [
       "              user mentions_rapih                 time\n",
       "0       ulinyusron                 2020-04-30 18:20:13\n",
       "1  hendribudiawan2     ulinyusron  2020-04-30 18:21:47\n",
       "2      kemalarsjad     ulinyusron  2020-04-30 18:22:33\n",
       "3       widhiholic     ulinyusron  2020-04-30 18:24:44\n",
       "4    WeizmanJalmav     ulinyusron  2020-04-30 18:26:38"
      ]
     },
     "execution_count": 8,
     "metadata": {},
     "output_type": "execute_result"
    }
   ],
   "source": [
    "#Make every combination of interaction\n",
    "\n",
    "new_data['time'] = new_data2['time']\n",
    "new_data.head()"
   ]
  },
  {
   "cell_type": "code",
   "execution_count": 9,
   "metadata": {},
   "outputs": [],
   "source": [
    "#Change blank mentions_rapih to user name\n",
    "\n",
    "INDEX_KOSONG = new_data[new_data['mentions_rapih']==''].index.values.tolist()\n",
    "for i in INDEX_KOSONG:\n",
    "    new_data.iloc[i][1] = new_data.iloc[i][0]"
   ]
  },
  {
   "cell_type": "code",
   "execution_count": 10,
   "metadata": {},
   "outputs": [],
   "source": [
    "#Save data frame to excel\n",
    "\n",
    "new_data.to_excel(r'..\\rapih_CidukSaidDidu.xlsx', index=False)"
   ]
  }
 ],
 "metadata": {
  "kernelspec": {
   "display_name": "Python 3",
   "language": "python",
   "name": "python3"
  },
  "language_info": {
   "codemirror_mode": {
    "name": "ipython",
    "version": 3
   },
   "file_extension": ".py",
   "mimetype": "text/x-python",
   "name": "python",
   "nbconvert_exporter": "python",
   "pygments_lexer": "ipython3",
   "version": "3.7.0"
  }
 },
 "nbformat": 4,
 "nbformat_minor": 2
}
